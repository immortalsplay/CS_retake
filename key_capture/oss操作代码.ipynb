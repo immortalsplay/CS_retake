{
 "cells": [
  {
   "cell_type": "code",
   "execution_count": 41,
   "id": "a1fa7b64-fedb-4510-b748-3c2013699405",
   "metadata": {},
   "outputs": [
    {
     "name": "stdout",
     "output_type": "stream",
     "text": [
      "Looking in indexes: https://mirrors.aliyun.com/pypi/simple\n",
      "Requirement already satisfied: oss2 in /root/anaconda3/lib/python3.7/site-packages (2.17.0)\n",
      "Requirement already satisfied: six in /root/anaconda3/lib/python3.7/site-packages (from oss2) (1.11.0)\n",
      "Requirement already satisfied: crcmod>=1.7 in /root/anaconda3/lib/python3.7/site-packages (from oss2) (1.7)\n",
      "Requirement already satisfied: pycryptodome>=3.4.7 in /root/anaconda3/lib/python3.7/site-packages (from oss2) (3.17)\n",
      "Requirement already satisfied: requests!=2.9.0 in /root/anaconda3/lib/python3.7/site-packages (from oss2) (2.28.1)\n",
      "Requirement already satisfied: aliyun-python-sdk-core>=2.13.12 in /root/anaconda3/lib/python3.7/site-packages (from oss2) (2.13.36)\n",
      "Requirement already satisfied: aliyun-python-sdk-kms>=2.4.1 in /root/anaconda3/lib/python3.7/site-packages (from oss2) (2.16.0)\n",
      "Requirement already satisfied: cryptography>=2.6.0 in /root/anaconda3/lib/python3.7/site-packages (from aliyun-python-sdk-core>=2.13.12->oss2) (39.0.2)\n",
      "Requirement already satisfied: jmespath<1.0.0,>=0.9.3 in /root/anaconda3/lib/python3.7/site-packages (from aliyun-python-sdk-core>=2.13.12->oss2) (0.10.0)\n",
      "Requirement already satisfied: certifi>=2017.4.17 in /root/anaconda3/lib/python3.7/site-packages (from requests!=2.9.0->oss2) (2022.9.24)\n",
      "Requirement already satisfied: urllib3<1.27,>=1.21.1 in /root/anaconda3/lib/python3.7/site-packages (from requests!=2.9.0->oss2) (1.26.12)\n",
      "Requirement already satisfied: charset-normalizer<3,>=2 in /root/anaconda3/lib/python3.7/site-packages (from requests!=2.9.0->oss2) (2.1.1)\n",
      "Requirement already satisfied: idna<4,>=2.5 in /root/anaconda3/lib/python3.7/site-packages (from requests!=2.9.0->oss2) (3.4)\n",
      "Requirement already satisfied: cffi>=1.12 in /root/anaconda3/lib/python3.7/site-packages (from cryptography>=2.6.0->aliyun-python-sdk-core>=2.13.12->oss2) (1.15.1)\n",
      "Requirement already satisfied: pycparser in /root/anaconda3/lib/python3.7/site-packages (from cffi>=1.12->cryptography>=2.6.0->aliyun-python-sdk-core>=2.13.12->oss2) (2.21)\n",
      "\u001b[33mWARNING: Running pip as the 'root' user can result in broken permissions and conflicting behaviour with the system package manager. It is recommended to use a virtual environment instead: https://pip.pypa.io/warnings/venv\u001b[0m\u001b[33m\n",
      "\u001b[0m\u001b[33mWARNING: You are using pip version 22.0.4; however, version 23.0.1 is available.\n",
      "You should consider upgrading via the '/root/anaconda3/bin/python -m pip install --upgrade pip' command.\u001b[0m\u001b[33m\n",
      "\u001b[0mLooking in indexes: https://mirrors.aliyun.com/pypi/simple\n",
      "Requirement already satisfied: pyopenssl in /root/anaconda3/lib/python3.7/site-packages (23.0.0)\n",
      "Requirement already satisfied: cryptography<40,>=38.0.0 in /root/anaconda3/lib/python3.7/site-packages (from pyopenssl) (39.0.2)\n",
      "Requirement already satisfied: cffi>=1.12 in /root/anaconda3/lib/python3.7/site-packages (from cryptography<40,>=38.0.0->pyopenssl) (1.15.1)\n",
      "Requirement already satisfied: pycparser in /root/anaconda3/lib/python3.7/site-packages (from cffi>=1.12->cryptography<40,>=38.0.0->pyopenssl) (2.21)\n",
      "\u001b[33mWARNING: Running pip as the 'root' user can result in broken permissions and conflicting behaviour with the system package manager. It is recommended to use a virtual environment instead: https://pip.pypa.io/warnings/venv\u001b[0m\u001b[33m\n",
      "\u001b[0m\u001b[33mWARNING: You are using pip version 22.0.4; however, version 23.0.1 is available.\n",
      "You should consider upgrading via the '/root/anaconda3/bin/python -m pip install --upgrade pip' command.\u001b[0m\u001b[33m\n",
      "\u001b[0m"
     ]
    }
   ],
   "source": [
    "!pip install oss2\n",
    "!pip install pyopenssl --upgrade\n"
   ]
  },
  {
   "cell_type": "code",
   "execution_count": 39,
   "id": "f7daa8fc-3ecc-4d36-97f1-27c320817e5d",
   "metadata": {},
   "outputs": [],
   "source": [
    "import oss2\n",
    "import os,sys\n",
    "# 阿里云账号AccessKey拥有所有API的访问权限，风险很高。强烈建议您创建并使用RAM用户进行API访问或日常运维，请登录RAM控制台创建RAM用户。\n",
    "auth = oss2.Auth('LTAI5tFks9mrco621mv897GU', 'OCPCoZZibZkHq075Us3x3XkENgnqLM')\n",
    "# yourEndpoint填写Bucket所在地域对应的Endpoint。以华东1（杭州）为例，Endpoint填写为https://oss-cn-hangzhou.aliyuncs.com。\n",
    "# 填写Bucket名称。\n",
    "bucket = oss2.Bucket(auth, 'oss-cn-beijing.aliyuncs.com', 'csgoai')"
   ]
  },
  {
   "cell_type": "markdown",
   "id": "a192d01f-dc1b-4d8e-b3f3-d65b26a5d8c1",
   "metadata": {},
   "source": [
    "## 文档：https://help.aliyun.com/document_detail/88435.html"
   ]
  },
  {
   "cell_type": "code",
   "execution_count": 40,
   "id": "f0377d67-44dc-4aba-875f-d7e35c5fa4e6",
   "metadata": {},
   "outputs": [
    {
     "name": "stdout",
     "output_type": "stream",
     "text": [
      "100% "
     ]
    },
    {
     "data": {
      "text/plain": [
       "<oss2.models.PutObjectResult at 0x7f473afb9da0>"
      ]
     },
     "execution_count": 40,
     "metadata": {},
     "output_type": "execute_result"
    }
   ],
   "source": [
    "# 存放数据\n",
    "def percentage(consumed_bytes, total_bytes):\n",
    "    if total_bytes:\n",
    "        rate = int(100 * (float(consumed_bytes) / float(total_bytes)))\n",
    "        print('\\r{0}% '.format(rate), end='')\n",
    "        sys.stdout.flush()\n",
    "# progress_callback为可选参数，用于实现进度条功能。\n",
    "bucket.put_object('gold.coin', 'a'*1024*1024, progress_callback=percentage)"
   ]
  },
  {
   "cell_type": "code",
   "execution_count": 43,
   "id": "a1021b53-23c7-4e23-8b1e-343d55692fae",
   "metadata": {},
   "outputs": [
    {
     "name": "stdout",
     "output_type": "stream",
     "text": [
      "gold.coin\n"
     ]
    }
   ],
   "source": [
    "# 列举数据\n",
    "# 列举Bucket下的所有文件。\n",
    "for obj in oss2.ObjectIterator(bucket):\n",
    "    print(obj.key)"
   ]
  },
  {
   "cell_type": "code",
   "execution_count": null,
   "id": "0c353d55-dc18-49ee-a0d9-7f344b47d7d8",
   "metadata": {},
   "outputs": [],
   "source": [
    "# 查询数据"
   ]
  },
  {
   "cell_type": "code",
   "execution_count": 42,
   "id": "8ee4b118-0997-4936-83c5-582623da8448",
   "metadata": {},
   "outputs": [
    {
     "name": "stdout",
     "output_type": "stream",
     "text": [
      "100% "
     ]
    },
    {
     "data": {
      "text/plain": [
       "<oss2.models.GetObjectResult at 0x7f473afb9860>"
      ]
     },
     "execution_count": 42,
     "metadata": {},
     "output_type": "execute_result"
    }
   ],
   "source": [
    "# 下载数据\n",
    "# progress_callback是可选参数，用于实现进度条功能。\n",
    "bucket.get_object_to_file('gold.coin', 'gold.coin2', progress_callback=percentage)"
   ]
  },
  {
   "cell_type": "code",
   "execution_count": null,
   "id": "c2f108ac-39ba-4f95-b94c-170315a17767",
   "metadata": {},
   "outputs": [],
   "source": [
    "# 删除数据\n"
   ]
  }
 ],
 "metadata": {
  "kernelspec": {
   "display_name": "Python 3",
   "language": "python",
   "name": "python3"
  },
  "language_info": {
   "codemirror_mode": {
    "name": "ipython",
    "version": 3
   },
   "file_extension": ".py",
   "mimetype": "text/x-python",
   "name": "python",
   "nbconvert_exporter": "python",
   "pygments_lexer": "ipython3",
   "version": "3.7.0"
  }
 },
 "nbformat": 4,
 "nbformat_minor": 5
}
