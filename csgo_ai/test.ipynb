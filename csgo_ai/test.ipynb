{
  "nbformat": 4,
  "nbformat_minor": 0,
  "metadata": {
    "colab": {
      "provenance": []
    },
    "kernelspec": {
      "name": "python3",
      "display_name": "Python 3"
    },
    "language_info": {
      "name": "python"
    }
  },
  "cells": [
    {
      "cell_type": "code",
      "execution_count": null,
      "metadata": {
        "id": "fkGM93oPwLDh"
      },
      "outputs": [],
      "source": [
        "import torch\n",
        "from torch import nn\n",
        "from torch.utils.data import DataLoader\n",
        "from csgo_dataset import CSGODataset, SmallCSGODataset\n",
        "from temporal import CSGO_model\n",
        "from config import Config\n",
        "def combined_loss(batch_size,outputs, targets):\n",
        "    mouse_x_outputs ,mouse_y_outputs,other_outputs = outputs\n",
        "\n",
        "\n",
        "\n",
        "    mouse_x_loss=0\n",
        "    mouse_y_loss=0\n",
        "    other_loss=0\n",
        "\n",
        "\n",
        "    for b in range(batch_size):\n",
        "        mouse_x_loss += nn.NLLLoss()(mouse_x_outputs[b], targets[b,0, 0])\n",
        "        mouse_y_loss += nn.NLLLoss()(mouse_y_outputs[b], targets[b,0, 1])\n",
        "        other_loss += nn.BCELoss()(other_outputs[b, :], targets[b, 0, 2:].float().unsqueeze(1))\n",
        "\n",
        "\n",
        "    return mouse_x_loss + mouse_y_loss + other_loss\n",
        "# loading\n",
        "model = CSGO_model(horizon = Config[\"horizon\"],\n",
        "                   num_feature=Config[\"num_feature\"],\n",
        "                   depth = Config[\"depth\"],\n",
        "                   num_heads = Config[\"num_heads\"],\n",
        "                   head_dim = Config[\"head_dim\"],\n",
        "                   inverse_dynamic_dim = Config[\"inverse_dynamic_dim\"],\n",
        "                   layer_norm_cfg=Config[\"layer_norm_cfg\"],\n",
        "                   model_option=Config[\"model_option\"],\n",
        "                   frame_count=Config[\"frame_count\"])\n",
        "\n",
        "model.load_state_dict(torch.load('csgo_model.pth'))\n",
        "\n",
        "device = torch.device(\"cuda\" if torch.cuda.is_available() else \"cpu\")\n",
        "model.to(device)\n",
        "\n",
        "# init\n",
        "test_dataset = CSGODataset(Config[\"file_path\"], train=False)\n",
        "test_loader = DataLoader(test_dataset, batch_size=Config[\"batch_size\"], shuffle=True)\n",
        "\n",
        "model.eval()  # eval mode\n",
        "\n",
        "# test\n",
        "with torch.no_grad():\n",
        "    total_loss = 0\n",
        "    for data, label in test_loader:\n",
        "        data = data.to(device)\n",
        "        label = label.to(device)\n",
        "        outputs = model(data)\n",
        "        loss = combined_loss(Config[\"batch_size\"],outputs, label)\n",
        "        total_loss += loss.item()\n",
        "\n",
        "average_test_loss = total_loss / len(test_loader)\n",
        "print(\"Test Loss: \", average_test_loss)"
      ]
    }
  ]
}